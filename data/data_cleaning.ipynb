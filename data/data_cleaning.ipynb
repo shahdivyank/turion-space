{
 "cells": [
  {
   "cell_type": "code",
   "execution_count": 1,
   "id": "120a7913",
   "metadata": {},
   "outputs": [],
   "source": [
    "import numpy as np\n",
    "import pandas as pd\n",
    "import json\n",
    "import random"
   ]
  },
  {
   "cell_type": "code",
   "execution_count": 2,
   "id": "a753090b",
   "metadata": {},
   "outputs": [],
   "source": [
    "# --- Step 1: Load original CSV and parse items ---\n",
    "df = pd.read_csv(\"100_thermal_data.csv\")\n",
    "df['parsed_items'] = df['items'].apply(json.loads)\n",
    "sensor_df = pd.DataFrame(df['parsed_items'].to_list())"
   ]
  },
  {
   "cell_type": "code",
   "execution_count": 3,
   "id": "2e607f0c",
   "metadata": {},
   "outputs": [],
   "source": [
    "# --- Step 2: Interpolate sensors to 1000 rows ---\n",
    "sensor_df.index = pd.Index(range(len(sensor_df)))\n",
    "new_index = pd.Index(np.linspace(0, len(sensor_df) - 1, 100000))\n",
    "sensor_df_1000 = sensor_df.reindex(new_index).interpolate(method='linear').round(2)\n",
    "sensor_df_1000 = sensor_df_1000.reset_index(drop=True)\n"
   ]
  },
  {
   "cell_type": "code",
   "execution_count": 4,
   "id": "7901d6a1",
   "metadata": {},
   "outputs": [],
   "source": [
    "# Estimate std deviation per sensor (column-wise) from the original data\n",
    "std_per_sensor = sensor_df.std()\n",
    "# Inject small Gaussian noise scaled to each sensor\n",
    "noise = np.random.normal(loc=0, scale=std_per_sensor/25, size=sensor_df_1000.shape)\n",
    "sensor_df_1000_noisy = (sensor_df_1000 + noise).round(2)"
   ]
  },
  {
   "cell_type": "code",
   "execution_count": 5,
   "id": "3ede9360",
   "metadata": {},
   "outputs": [],
   "source": [
    "# Choose 1%–2% of rows to insert anomalies into (e.g., 10–20 points)\n",
    "num_anomalies = 50\n",
    "anomaly_rows = random.sample(range(len(sensor_df_1000_noisy)), num_anomalies)\n",
    "\n",
    "for row in anomaly_rows:\n",
    "    # Generate one random spike value per sensor (20–62°C)\n",
    "    spike_values = np.random.uniform(20, 62, size=sensor_df_1000_noisy.shape[1])\n",
    "    \n",
    "    # Inject all values at once into the row\n",
    "    sensor_df_1000_noisy.iloc[row] = np.round(spike_values, 2)"
   ]
  },
  {
   "cell_type": "code",
   "execution_count": 6,
   "id": "4edab1a8",
   "metadata": {},
   "outputs": [
    {
     "data": {
      "text/plain": [
       "[20170,\n",
       " 18808,\n",
       " 32666,\n",
       " 21600,\n",
       " 36430,\n",
       " 21501,\n",
       " 10534,\n",
       " 25649,\n",
       " 50633,\n",
       " 87072,\n",
       " 20140,\n",
       " 43996,\n",
       " 34205,\n",
       " 13372,\n",
       " 52461,\n",
       " 88038,\n",
       " 69788,\n",
       " 3072,\n",
       " 2633,\n",
       " 46783,\n",
       " 66254,\n",
       " 81332,\n",
       " 62893,\n",
       " 13529,\n",
       " 58751,\n",
       " 47299,\n",
       " 24401,\n",
       " 12144,\n",
       " 81854,\n",
       " 72670,\n",
       " 87755,\n",
       " 98929,\n",
       " 22208,\n",
       " 17394,\n",
       " 30194,\n",
       " 82322,\n",
       " 2162,\n",
       " 28267,\n",
       " 23932,\n",
       " 16728,\n",
       " 85865,\n",
       " 68718,\n",
       " 22462,\n",
       " 86218,\n",
       " 67832,\n",
       " 14369,\n",
       " 45863,\n",
       " 17464,\n",
       " 81006,\n",
       " 99811]"
      ]
     },
     "execution_count": 6,
     "metadata": {},
     "output_type": "execute_result"
    }
   ],
   "source": [
    "anomaly_rows"
   ]
  },
  {
   "cell_type": "code",
   "execution_count": 8,
   "id": "b5f76b75",
   "metadata": {},
   "outputs": [],
   "source": [
    "# --- Step 3: Create 1000 timestamps in descending order ---\n",
    "df['packet_time'] = pd.to_datetime(df['packet_time'])\n",
    "start_time = df['packet_time'].iloc[0]  # latest time\n",
    "end_time = df['packet_time'].iloc[-1]   # oldest time"
   ]
  },
  {
   "cell_type": "code",
   "execution_count": 10,
   "id": "2a3ff6c0",
   "metadata": {},
   "outputs": [],
   "source": [
    "# Generate 1000 evenly spaced times between start and end\n",
    "packet_times = pd.date_range(start=start_time, end=end_time, periods=100000)"
   ]
  },
  {
   "cell_type": "code",
   "execution_count": 11,
   "id": "21fbf70d",
   "metadata": {},
   "outputs": [],
   "source": [
    "# --- Step 4: Rebuild final DataFrame ---\n",
    "df_expanded = pd.DataFrame({\n",
    "    'packet_time': packet_times,\n",
    "    'items': sensor_df_1000_noisy.apply(lambda row: json.dumps(row.to_dict()), axis=1)\n",
    "})"
   ]
  },
  {
   "cell_type": "code",
   "execution_count": 12,
   "id": "799f5858",
   "metadata": {},
   "outputs": [],
   "source": [
    "df_expanded['boot_count'] = 6450\n",
    "df_expanded['spacecraft'] = \"DEFAULT\"\n",
    "df_expanded['target'] = \"THERMAL\"\n",
    "df_expanded['packet'] = \"THERMAL_HK\"\n"
   ]
  },
  {
   "cell_type": "code",
   "execution_count": 13,
   "id": "d6d77df8",
   "metadata": {},
   "outputs": [],
   "source": [
    "df_expanded.to_csv('100000_thermal_data.csv', index=False)"
   ]
  },
  {
   "cell_type": "code",
   "execution_count": null,
   "id": "9436c52c",
   "metadata": {},
   "outputs": [],
   "source": []
  }
 ],
 "metadata": {
  "kernelspec": {
   "display_name": "Python 3",
   "language": "python",
   "name": "python3"
  },
  "language_info": {
   "codemirror_mode": {
    "name": "ipython",
    "version": 3
   },
   "file_extension": ".py",
   "mimetype": "text/x-python",
   "name": "python",
   "nbconvert_exporter": "python",
   "pygments_lexer": "ipython3",
   "version": "3.9.20"
  }
 },
 "nbformat": 4,
 "nbformat_minor": 5
}
