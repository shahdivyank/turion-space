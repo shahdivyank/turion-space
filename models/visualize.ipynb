{
 "cells": [
  {
   "cell_type": "code",
   "execution_count": 18,
   "id": "d879d3d1",
   "metadata": {},
   "outputs": [],
   "source": [
    "import pandas as pd\n",
    "import json\n",
    "import numpy as np\n",
    "\n",
    "sensors = dict()\n",
    "\n",
    "def parse_items(x):\n",
    "    items = json.loads(x)\n",
    "\n",
    "    for item in items:\n",
    "        if item in sensors:\n",
    "            sensors[item].append(items[item])\n",
    "        else:\n",
    "            sensors[item] = []\n",
    "\n",
    "def parse(file):\n",
    "    df = pd.read_csv(file)\n",
    "\n",
    "    df[\"items\"].apply(parse_items)\n",
    "\n",
    "    for sensor in sensors:\n",
    "        np.save(f'{sensor.lower().replace(\"sensor\", \"\")}.npy', np.array(sensors[sensor]))\n",
    "\n",
    "    return df\n",
    "\n",
    "df = parse(\"../thermal_data.csv\")"
   ]
  }
 ],
 "metadata": {
  "kernelspec": {
   "display_name": "Python 3",
   "language": "python",
   "name": "python3"
  },
  "language_info": {
   "codemirror_mode": {
    "name": "ipython",
    "version": 3
   },
   "file_extension": ".py",
   "mimetype": "text/x-python",
   "name": "python",
   "nbconvert_exporter": "python",
   "pygments_lexer": "ipython3",
   "version": "3.9.20"
  }
 },
 "nbformat": 4,
 "nbformat_minor": 5
}
