{
 "cells": [
  {
   "cell_type": "code",
   "execution_count": null,
   "id": "39caa163",
   "metadata": {},
   "outputs": [],
   "source": [
    "import torch\n",
    "import torch.nn as nn\n",
    "import numpy as np\n",
    "\n",
    "np.random.seed(0)\n",
    "torch.manual_seed(0)\n",
    "\n",
    "def prepare(sequence):\n",
    "    SEQ_LENGTH = sequence\n",
    "    data = np.load(\"1.npy\")\n",
    "    testdata = np.load(\"1.npy\")\n",
    "\n",
    "    datapoints = len(data)\n",
    "\n",
    "    data = data[:int(datapoints * 0.7)]\n",
    "    testdata = testdata[int(datapoints * 0.7):]\n",
    "\n",
    "    data = (data - np.mean(data)) / np.std(data)\n",
    "\n",
    "    def create_sequences(data, testdata, seq_length):\n",
    "        xs = []\n",
    "        ys = []\n",
    "        tests = []\n",
    "        test_ys = []\n",
    "        for i in range(len(data) - seq_length):\n",
    "            x = data[i: (i + seq_length)] # 20 datapoints\n",
    "            y = data[i + seq_length] # 21st datapoint\n",
    "            test = testdata[i: (i + seq_length)]\n",
    "            \n",
    "            if i + seq_length < len(testdata):\n",
    "                test = testdata[i: (i + seq_length)]\n",
    "                test_y = testdata[i + seq_length]\n",
    "                tests.append(test)\n",
    "                test_ys.append(test_y)\n",
    "            xs.append(x)\n",
    "            ys.append(y)\n",
    "        \n",
    "        return np.array(xs), np.array(ys), np.array(tests), np.array(test_ys)\n",
    "\n",
    "    X, y, TEST, TEST_y = create_sequences(data, testdata, SEQ_LENGTH)\n",
    "\n",
    "    TRAIN_X = torch.tensor(X[:, :, None], dtype=torch.float32)\n",
    "    TRAIN_Y = torch.tensor(y[:, None], dtype=torch.float32)\n",
    "\n",
    "    TEST_X = torch.tensor(TEST[:, :, None], dtype=torch.float32)\n",
    "    TEST_Y = torch.tensor(TEST_y[:, None], dtype=torch.float32)\n",
    "\n",
    "    return TRAIN_X, TRAIN_Y, TEST_X, TEST_Y"
   ]
  },
  {
   "cell_type": "code",
   "execution_count": 168,
   "id": "d157dbf8",
   "metadata": {},
   "outputs": [],
   "source": [
    "TRAIN_X, TRAIN_Y, TEST_X, TEST_Y = prepare(15)"
   ]
  },
  {
   "cell_type": "code",
   "execution_count": 169,
   "id": "b2cfacdc",
   "metadata": {},
   "outputs": [
    {
     "data": {
      "text/plain": [
       "(torch.Size([15, 15, 1]), torch.Size([54, 15, 1]))"
      ]
     },
     "execution_count": 169,
     "metadata": {},
     "output_type": "execute_result"
    }
   ],
   "source": [
    "TEST_X.shape, TRAIN_X.shape"
   ]
  },
  {
   "cell_type": "code",
   "execution_count": 170,
   "id": "d0e88591",
   "metadata": {},
   "outputs": [
    {
     "data": {
      "text/plain": [
       "(torch.Size([15, 1]), torch.Size([54, 1]))"
      ]
     },
     "execution_count": 170,
     "metadata": {},
     "output_type": "execute_result"
    }
   ],
   "source": [
    "TEST_Y.shape, TRAIN_Y.shape"
   ]
  },
  {
   "cell_type": "code",
   "execution_count": 171,
   "id": "d9653bd3",
   "metadata": {},
   "outputs": [],
   "source": [
    "class LSTMModel(nn.Module):\n",
    "    def __init__(self, input_dim, hidden_dim, layer_dim, output_dim):\n",
    "        super(LSTMModel, self).__init__()\n",
    "        self.hidden_dim = hidden_dim\n",
    "        self.layer_dim = layer_dim\n",
    "        self.lstm = nn.LSTM(input_dim, hidden_dim, layer_dim, batch_first = True)\n",
    "        self.fc = nn.Linear(hidden_dim, output_dim)\n",
    "\n",
    "    def forward(self, x, h0 = None, c0 = None):\n",
    "        if h0 is None or c0 is None:\n",
    "            h0 = torch.zeros(self.layer_dim, x.size(0), self.hidden_dim).to(x.device)\n",
    "            c0 = torch.zeros(self.layer_dim, x.size(0), self.hidden_dim).to(x.device)\n",
    "        \n",
    "        out, (hn, cn) = self.lstm(x, (h0, c0))\n",
    "        out = self.fc(out[:, -1, :])\n",
    "        return out, hn, cn"
   ]
  },
  {
   "cell_type": "code",
   "execution_count": 172,
   "id": "242649da",
   "metadata": {},
   "outputs": [],
   "source": [
    "def define_model(hidden, learning):\n",
    "    model = LSTMModel(input_dim = 1, hidden_dim = hidden, layer_dim = 1, output_dim = 1)\n",
    "    criterion = nn.MSELoss()\n",
    "    optimizer = torch.optim.Adam(model.parameters(), lr=learning)\n",
    "\n",
    "    return model, criterion, optimizer"
   ]
  },
  {
   "cell_type": "code",
   "execution_count": 173,
   "id": "52b2469e",
   "metadata": {},
   "outputs": [],
   "source": [
    "def train(model, criterion, optimizer, TRAIN_X, TRAIN_Y, epochs):\n",
    "    num_epochs = epochs\n",
    "    h0, c0 = None, None\n",
    "\n",
    "    for epoch in range(num_epochs):\n",
    "        model.train()\n",
    "        optimizer.zero_grad()\n",
    "\n",
    "        outputs, h0, c0 = model(TRAIN_X, h0, c0)\n",
    "\n",
    "        loss = criterion(outputs, TRAIN_Y)\n",
    "        loss.backward()\n",
    "        optimizer.step()\n",
    "\n",
    "        h0 = h0.detach()\n",
    "        c0 = c0.detach()\n",
    "\n",
    "    return h0, c0"
   ]
  },
  {
   "cell_type": "code",
   "execution_count": 184,
   "id": "8816e70c",
   "metadata": {},
   "outputs": [],
   "source": [
    "# def test(model, TRAIN_X, TRAIN_Y, h0, c0):\n",
    "#     model.eval()\n",
    "#     predicted, _, _ = model(TRAIN_X, h0, c0)\n",
    "\n",
    "#     predicted = predicted.detach().numpy()\n",
    "\n",
    "#     return np.sqrt(np.mean((predicted.flatten() - TRAIN_Y.flatten().numpy())**2))\n",
    "def test(model, X, Y):\n",
    "    model.eval()\n",
    "    batch_size = X.size(0)\n",
    "    device = X.device\n",
    "\n",
    "    # Reinitialize hidden and cell state to match test batch size\n",
    "    h0 = torch.zeros(model.layer_dim, batch_size, model.hidden_dim).to(device)\n",
    "    c0 = torch.zeros(model.layer_dim, batch_size, model.hidden_dim).to(device)\n",
    "\n",
    "    with torch.no_grad():\n",
    "        predicted, _, _ = model(X, h0, c0)\n",
    "        predicted = predicted.detach().cpu().numpy()\n",
    "        Y_np = Y.detach().cpu().numpy()\n",
    "\n",
    "    return np.sqrt(np.mean((predicted.flatten() - Y_np.flatten())**2))\n",
    "\n",
    "\n",
    "def predict(model, X):\n",
    "    model.eval()\n",
    "    batch_size = X.size(0)\n",
    "    device = X.device\n",
    "\n",
    "    h0 = torch.zeros(model.layer_dim, batch_size, model.hidden_dim).to(device)\n",
    "    c0 = torch.zeros(model.layer_dim, batch_size, model.hidden_dim).to(device)\n",
    "\n",
    "    with torch.no_grad():\n",
    "        predicted, _, _ = model(X, h0, c0)\n",
    "        predicted = predicted.detach().cpu().numpy()\n",
    "    \n",
    "    return predicted\n",
    "    "
   ]
  },
  {
   "cell_type": "code",
   "execution_count": 176,
   "id": "a4363f72",
   "metadata": {},
   "outputs": [
    {
     "ename": "KeyboardInterrupt",
     "evalue": "",
     "output_type": "error",
     "traceback": [
      "\u001b[0;31m---------------------------------------------------------------------------\u001b[0m",
      "\u001b[0;31mKeyboardInterrupt\u001b[0m                         Traceback (most recent call last)",
      "Cell \u001b[0;32mIn[176], line 14\u001b[0m\n\u001b[1;32m     12\u001b[0m TRAIN_X, TRAIN_Y, TEST_X, TEST_Y \u001b[38;5;241m=\u001b[39m prepare(sequences[sequence_index])\n\u001b[1;32m     13\u001b[0m model, criterion, optimizer \u001b[38;5;241m=\u001b[39m define_model(hidden[hidden_index], learning[learning_index])\n\u001b[0;32m---> 14\u001b[0m h0, c0 \u001b[38;5;241m=\u001b[39m \u001b[43mtrain\u001b[49m\u001b[43m(\u001b[49m\u001b[43mmodel\u001b[49m\u001b[43m,\u001b[49m\u001b[43m \u001b[49m\u001b[43mcriterion\u001b[49m\u001b[43m,\u001b[49m\u001b[43m \u001b[49m\u001b[43moptimizer\u001b[49m\u001b[43m,\u001b[49m\u001b[43m \u001b[49m\u001b[43mTRAIN_X\u001b[49m\u001b[43m,\u001b[49m\u001b[43m \u001b[49m\u001b[43mTRAIN_Y\u001b[49m\u001b[43m,\u001b[49m\u001b[43m \u001b[49m\u001b[43mepochs\u001b[49m\u001b[43m[\u001b[49m\u001b[43mepoch_index\u001b[49m\u001b[43m]\u001b[49m\u001b[43m)\u001b[49m\n\u001b[1;32m     16\u001b[0m rsme \u001b[38;5;241m=\u001b[39m test(model, TEST_X, TEST_Y)\n\u001b[1;32m     18\u001b[0m results[epoch_index][sequence_index][hidden_index][learning_index] \u001b[38;5;241m=\u001b[39m rsme\n",
      "Cell \u001b[0;32mIn[173], line 12\u001b[0m, in \u001b[0;36mtrain\u001b[0;34m(model, criterion, optimizer, TRAIN_X, TRAIN_Y, epochs)\u001b[0m\n\u001b[1;32m      9\u001b[0m outputs, h0, c0 \u001b[38;5;241m=\u001b[39m model(TRAIN_X, h0, c0)\n\u001b[1;32m     11\u001b[0m loss \u001b[38;5;241m=\u001b[39m criterion(outputs, TRAIN_Y)\n\u001b[0;32m---> 12\u001b[0m \u001b[43mloss\u001b[49m\u001b[38;5;241;43m.\u001b[39;49m\u001b[43mbackward\u001b[49m\u001b[43m(\u001b[49m\u001b[43m)\u001b[49m\n\u001b[1;32m     13\u001b[0m optimizer\u001b[38;5;241m.\u001b[39mstep()\n\u001b[1;32m     15\u001b[0m h0 \u001b[38;5;241m=\u001b[39m h0\u001b[38;5;241m.\u001b[39mdetach()\n",
      "File \u001b[0;32m~/Desktop/CS228/.conda/lib/python3.9/site-packages/torch/_tensor.py:581\u001b[0m, in \u001b[0;36mTensor.backward\u001b[0;34m(self, gradient, retain_graph, create_graph, inputs)\u001b[0m\n\u001b[1;32m    571\u001b[0m \u001b[38;5;28;01mif\u001b[39;00m has_torch_function_unary(\u001b[38;5;28mself\u001b[39m):\n\u001b[1;32m    572\u001b[0m     \u001b[38;5;28;01mreturn\u001b[39;00m handle_torch_function(\n\u001b[1;32m    573\u001b[0m         Tensor\u001b[38;5;241m.\u001b[39mbackward,\n\u001b[1;32m    574\u001b[0m         (\u001b[38;5;28mself\u001b[39m,),\n\u001b[0;32m   (...)\u001b[0m\n\u001b[1;32m    579\u001b[0m         inputs\u001b[38;5;241m=\u001b[39minputs,\n\u001b[1;32m    580\u001b[0m     )\n\u001b[0;32m--> 581\u001b[0m \u001b[43mtorch\u001b[49m\u001b[38;5;241;43m.\u001b[39;49m\u001b[43mautograd\u001b[49m\u001b[38;5;241;43m.\u001b[39;49m\u001b[43mbackward\u001b[49m\u001b[43m(\u001b[49m\n\u001b[1;32m    582\u001b[0m \u001b[43m    \u001b[49m\u001b[38;5;28;43mself\u001b[39;49m\u001b[43m,\u001b[49m\u001b[43m \u001b[49m\u001b[43mgradient\u001b[49m\u001b[43m,\u001b[49m\u001b[43m \u001b[49m\u001b[43mretain_graph\u001b[49m\u001b[43m,\u001b[49m\u001b[43m \u001b[49m\u001b[43mcreate_graph\u001b[49m\u001b[43m,\u001b[49m\u001b[43m \u001b[49m\u001b[43minputs\u001b[49m\u001b[38;5;241;43m=\u001b[39;49m\u001b[43minputs\u001b[49m\n\u001b[1;32m    583\u001b[0m \u001b[43m\u001b[49m\u001b[43m)\u001b[49m\n",
      "File \u001b[0;32m~/Desktop/CS228/.conda/lib/python3.9/site-packages/torch/autograd/__init__.py:347\u001b[0m, in \u001b[0;36mbackward\u001b[0;34m(tensors, grad_tensors, retain_graph, create_graph, grad_variables, inputs)\u001b[0m\n\u001b[1;32m    342\u001b[0m     retain_graph \u001b[38;5;241m=\u001b[39m create_graph\n\u001b[1;32m    344\u001b[0m \u001b[38;5;66;03m# The reason we repeat the same comment below is that\u001b[39;00m\n\u001b[1;32m    345\u001b[0m \u001b[38;5;66;03m# some Python versions print out the first line of a multi-line function\u001b[39;00m\n\u001b[1;32m    346\u001b[0m \u001b[38;5;66;03m# calls in the traceback and some print out the last line\u001b[39;00m\n\u001b[0;32m--> 347\u001b[0m \u001b[43m_engine_run_backward\u001b[49m\u001b[43m(\u001b[49m\n\u001b[1;32m    348\u001b[0m \u001b[43m    \u001b[49m\u001b[43mtensors\u001b[49m\u001b[43m,\u001b[49m\n\u001b[1;32m    349\u001b[0m \u001b[43m    \u001b[49m\u001b[43mgrad_tensors_\u001b[49m\u001b[43m,\u001b[49m\n\u001b[1;32m    350\u001b[0m \u001b[43m    \u001b[49m\u001b[43mretain_graph\u001b[49m\u001b[43m,\u001b[49m\n\u001b[1;32m    351\u001b[0m \u001b[43m    \u001b[49m\u001b[43mcreate_graph\u001b[49m\u001b[43m,\u001b[49m\n\u001b[1;32m    352\u001b[0m \u001b[43m    \u001b[49m\u001b[43minputs\u001b[49m\u001b[43m,\u001b[49m\n\u001b[1;32m    353\u001b[0m \u001b[43m    \u001b[49m\u001b[43mallow_unreachable\u001b[49m\u001b[38;5;241;43m=\u001b[39;49m\u001b[38;5;28;43;01mTrue\u001b[39;49;00m\u001b[43m,\u001b[49m\n\u001b[1;32m    354\u001b[0m \u001b[43m    \u001b[49m\u001b[43maccumulate_grad\u001b[49m\u001b[38;5;241;43m=\u001b[39;49m\u001b[38;5;28;43;01mTrue\u001b[39;49;00m\u001b[43m,\u001b[49m\n\u001b[1;32m    355\u001b[0m \u001b[43m\u001b[49m\u001b[43m)\u001b[49m\n",
      "File \u001b[0;32m~/Desktop/CS228/.conda/lib/python3.9/site-packages/torch/autograd/graph.py:825\u001b[0m, in \u001b[0;36m_engine_run_backward\u001b[0;34m(t_outputs, *args, **kwargs)\u001b[0m\n\u001b[1;32m    823\u001b[0m     unregister_hooks \u001b[38;5;241m=\u001b[39m _register_logging_hooks_on_whole_graph(t_outputs)\n\u001b[1;32m    824\u001b[0m \u001b[38;5;28;01mtry\u001b[39;00m:\n\u001b[0;32m--> 825\u001b[0m     \u001b[38;5;28;01mreturn\u001b[39;00m \u001b[43mVariable\u001b[49m\u001b[38;5;241;43m.\u001b[39;49m\u001b[43m_execution_engine\u001b[49m\u001b[38;5;241;43m.\u001b[39;49m\u001b[43mrun_backward\u001b[49m\u001b[43m(\u001b[49m\u001b[43m  \u001b[49m\u001b[38;5;66;43;03m# Calls into the C++ engine to run the backward pass\u001b[39;49;00m\n\u001b[1;32m    826\u001b[0m \u001b[43m        \u001b[49m\u001b[43mt_outputs\u001b[49m\u001b[43m,\u001b[49m\u001b[43m \u001b[49m\u001b[38;5;241;43m*\u001b[39;49m\u001b[43margs\u001b[49m\u001b[43m,\u001b[49m\u001b[43m \u001b[49m\u001b[38;5;241;43m*\u001b[39;49m\u001b[38;5;241;43m*\u001b[39;49m\u001b[43mkwargs\u001b[49m\n\u001b[1;32m    827\u001b[0m \u001b[43m    \u001b[49m\u001b[43m)\u001b[49m  \u001b[38;5;66;03m# Calls into the C++ engine to run the backward pass\u001b[39;00m\n\u001b[1;32m    828\u001b[0m \u001b[38;5;28;01mfinally\u001b[39;00m:\n\u001b[1;32m    829\u001b[0m     \u001b[38;5;28;01mif\u001b[39;00m attach_logging_hooks:\n",
      "\u001b[0;31mKeyboardInterrupt\u001b[0m: "
     ]
    }
   ],
   "source": [
    "epochs = [100, 200, 300, 400, 500]\n",
    "sequences = [5, 10, 15, 20]\n",
    "hidden = [50, 100, 150, 200, 250]\n",
    "learning = [0.1, 0.01, 0.001, 0.0001]\n",
    "\n",
    "results = np.zeros((len(epochs), len(sequences), len(hidden), len(learning)))\n",
    "\n",
    "for epoch_index in range(len(epochs)):\n",
    "    for sequence_index in range(len(sequences)):\n",
    "        for hidden_index in range(len(hidden)):\n",
    "            for learning_index in range(len(learning)):\n",
    "                TRAIN_X, TRAIN_Y, TEST_X, TEST_Y = prepare(sequences[sequence_index])\n",
    "                model, criterion, optimizer = define_model(hidden[hidden_index], learning[learning_index])\n",
    "                h0, c0 = train(model, criterion, optimizer, TRAIN_X, TRAIN_Y, epochs[epoch_index])\n",
    "\n",
    "                rsme = test(model, TEST_X, TEST_Y)\n",
    "\n",
    "                results[epoch_index][sequence_index][hidden_index][learning_index] = rsme"
   ]
  },
  {
   "cell_type": "code",
   "execution_count": 68,
   "id": "22bd030f",
   "metadata": {},
   "outputs": [
    {
     "ename": "NameError",
     "evalue": "name 'dataset' is not defined",
     "output_type": "error",
     "traceback": [
      "\u001b[0;31m---------------------------------------------------------------------------\u001b[0m",
      "\u001b[0;31mNameError\u001b[0m                                 Traceback (most recent call last)",
      "Cell \u001b[0;32mIn[68], line 21\u001b[0m\n\u001b[1;32m     18\u001b[0m     plt\u001b[38;5;241m.\u001b[39mlegend()\n\u001b[1;32m     19\u001b[0m     plt\u001b[38;5;241m.\u001b[39mshow()\n\u001b[0;32m---> 21\u001b[0m visualize(model, TRAIN_X, h0, c0, dataset, \u001b[38;5;241m10\u001b[39m)\n",
      "\u001b[0;31mNameError\u001b[0m: name 'dataset' is not defined"
     ]
    }
   ],
   "source": [
    "import matplotlib.pyplot as plt\n",
    "\n",
    "def visualize(model, TRAIN_X, h0, c0, data, seq_length):\n",
    "    model.eval()\n",
    "    predicted, _, _ = model(TRAIN_X, h0, c0)\n",
    "\n",
    "    predicted = predicted.detach().numpy()\n",
    "\n",
    "    original = data[seq_length:]\n",
    "    time_steps = np.arange(seq_length, len(data))\n",
    "\n",
    "    plt.figure(figsize=(12, 6))\n",
    "    plt.plot(time_steps, original, label='Original Data')\n",
    "    plt.plot(time_steps, predicted, label='Predicted Data', linestyle='--')\n",
    "    plt.title('LSTM Model Predictions vs. Original Data')\n",
    "    plt.xlabel('Time Step')\n",
    "    plt.ylabel('Value')\n",
    "    plt.legend()\n",
    "    plt.show()\n",
    "\n",
    "visualize(model, TRAIN_X, h0, c0, dataset, 10)"
   ]
  },
  {
   "cell_type": "code",
   "execution_count": null,
   "id": "27f9cad5",
   "metadata": {},
   "outputs": [],
   "source": []
  },
  {
   "cell_type": "code",
   "execution_count": 69,
   "id": "b23db0c8",
   "metadata": {},
   "outputs": [
    {
     "data": {
      "text/plain": [
       "0.8375309"
      ]
     },
     "execution_count": 69,
     "metadata": {},
     "output_type": "execute_result"
    }
   ],
   "source": [
    "rsme"
   ]
  },
  {
   "cell_type": "code",
   "execution_count": 120,
   "id": "8fbe0b1f",
   "metadata": {},
   "outputs": [
    {
     "data": {
      "text/plain": [
       "(4, 5, 4)"
      ]
     },
     "execution_count": 120,
     "metadata": {},
     "output_type": "execute_result"
    }
   ],
   "source": [
    "results[0].shape"
   ]
  },
  {
   "cell_type": "code",
   "execution_count": 121,
   "id": "1f61b191",
   "metadata": {},
   "outputs": [
    {
     "data": {
      "text/plain": [
       "array([[[0., 0., 0., 0.],\n",
       "        [0., 0., 0., 0.],\n",
       "        [0., 0., 0., 0.],\n",
       "        [0., 0., 0., 0.],\n",
       "        [0., 0., 0., 0.]],\n",
       "\n",
       "       [[0., 0., 0., 0.],\n",
       "        [0., 0., 0., 0.],\n",
       "        [0., 0., 0., 0.],\n",
       "        [0., 0., 0., 0.],\n",
       "        [0., 0., 0., 0.]],\n",
       "\n",
       "       [[0., 0., 0., 0.],\n",
       "        [0., 0., 0., 0.],\n",
       "        [0., 0., 0., 0.],\n",
       "        [0., 0., 0., 0.],\n",
       "        [0., 0., 0., 0.]],\n",
       "\n",
       "       [[0., 0., 0., 0.],\n",
       "        [0., 0., 0., 0.],\n",
       "        [0., 0., 0., 0.],\n",
       "        [0., 0., 0., 0.],\n",
       "        [0., 0., 0., 0.]]])"
      ]
     },
     "execution_count": 121,
     "metadata": {},
     "output_type": "execute_result"
    }
   ],
   "source": [
    "epochs = [100, 200, 300, 400, 500]\n",
    "sequences = [5, 10, 15, 20]\n",
    "hidden = [50, 100, 150, 200, 250]\n",
    "learning = [0.1, 0.01, 0.001, 0.0001]\n",
    "\n",
    "# 100 epochs\n",
    "results[0]\n",
    "\n",
    "# 0.739133 at 100 epochs with 15 sequence_length 100 hidden layers and learning rate of .01"
   ]
  },
  {
   "cell_type": "code",
   "execution_count": 122,
   "id": "19039b61",
   "metadata": {},
   "outputs": [
    {
     "data": {
      "text/plain": [
       "array([[[0., 0., 0., 0.],\n",
       "        [0., 0., 0., 0.],\n",
       "        [0., 0., 0., 0.],\n",
       "        [0., 0., 0., 0.],\n",
       "        [0., 0., 0., 0.]],\n",
       "\n",
       "       [[0., 0., 0., 0.],\n",
       "        [0., 0., 0., 0.],\n",
       "        [0., 0., 0., 0.],\n",
       "        [0., 0., 0., 0.],\n",
       "        [0., 0., 0., 0.]],\n",
       "\n",
       "       [[0., 0., 0., 0.],\n",
       "        [0., 0., 0., 0.],\n",
       "        [0., 0., 0., 0.],\n",
       "        [0., 0., 0., 0.],\n",
       "        [0., 0., 0., 0.]],\n",
       "\n",
       "       [[0., 0., 0., 0.],\n",
       "        [0., 0., 0., 0.],\n",
       "        [0., 0., 0., 0.],\n",
       "        [0., 0., 0., 0.],\n",
       "        [0., 0., 0., 0.]]])"
      ]
     },
     "execution_count": 122,
     "metadata": {},
     "output_type": "execute_result"
    }
   ],
   "source": [
    "epochs = [100, 200, 300, 400, 500]\n",
    "sequences = [5, 10, 15, 20]\n",
    "hidden = [50, 100, 150, 200, 250]\n",
    "learning = [0.1, 0.01, 0.001, 0.0001]\n",
    "\n",
    "# 200 epochs\n",
    "results[1]\n",
    "\n",
    "# 0.61818993 at 200 epochs with 10 sequence_length 50 hidden layers and learning rate of .01"
   ]
  },
  {
   "cell_type": "code",
   "execution_count": 123,
   "id": "1f3cf480",
   "metadata": {},
   "outputs": [
    {
     "data": {
      "text/plain": [
       "array([[[0., 0., 0., 0.],\n",
       "        [0., 0., 0., 0.],\n",
       "        [0., 0., 0., 0.],\n",
       "        [0., 0., 0., 0.],\n",
       "        [0., 0., 0., 0.]],\n",
       "\n",
       "       [[0., 0., 0., 0.],\n",
       "        [0., 0., 0., 0.],\n",
       "        [0., 0., 0., 0.],\n",
       "        [0., 0., 0., 0.],\n",
       "        [0., 0., 0., 0.]],\n",
       "\n",
       "       [[0., 0., 0., 0.],\n",
       "        [0., 0., 0., 0.],\n",
       "        [0., 0., 0., 0.],\n",
       "        [0., 0., 0., 0.],\n",
       "        [0., 0., 0., 0.]],\n",
       "\n",
       "       [[0., 0., 0., 0.],\n",
       "        [0., 0., 0., 0.],\n",
       "        [0., 0., 0., 0.],\n",
       "        [0., 0., 0., 0.],\n",
       "        [0., 0., 0., 0.]]])"
      ]
     },
     "execution_count": 123,
     "metadata": {},
     "output_type": "execute_result"
    }
   ],
   "source": [
    "epochs = [100, 200, 300, 400, 500]\n",
    "sequences = [5, 10, 15, 20]\n",
    "hidden = [50, 100, 150, 200, 250]\n",
    "learning = [0.1, 0.01, 0.001, 0.0001]\n",
    "\n",
    "# 300 epochs\n",
    "results[2]\n",
    "\n",
    "# 0.07704759 at 300 epochs with 15 sequence_length 100 hidden layers and learning rate of .1"
   ]
  },
  {
   "cell_type": "code",
   "execution_count": 124,
   "id": "139ad11c",
   "metadata": {},
   "outputs": [
    {
     "data": {
      "text/plain": [
       "array([[[0., 0., 0., 0.],\n",
       "        [0., 0., 0., 0.],\n",
       "        [0., 0., 0., 0.],\n",
       "        [0., 0., 0., 0.],\n",
       "        [0., 0., 0., 0.]],\n",
       "\n",
       "       [[0., 0., 0., 0.],\n",
       "        [0., 0., 0., 0.],\n",
       "        [0., 0., 0., 0.],\n",
       "        [0., 0., 0., 0.],\n",
       "        [0., 0., 0., 0.]],\n",
       "\n",
       "       [[0., 0., 0., 0.],\n",
       "        [0., 0., 0., 0.],\n",
       "        [0., 0., 0., 0.],\n",
       "        [0., 0., 0., 0.],\n",
       "        [0., 0., 0., 0.]],\n",
       "\n",
       "       [[0., 0., 0., 0.],\n",
       "        [0., 0., 0., 0.],\n",
       "        [0., 0., 0., 0.],\n",
       "        [0., 0., 0., 0.],\n",
       "        [0., 0., 0., 0.]]])"
      ]
     },
     "execution_count": 124,
     "metadata": {},
     "output_type": "execute_result"
    }
   ],
   "source": [
    "epochs = [100, 200, 300, 400, 500]\n",
    "sequences = [5, 10, 15, 20]\n",
    "hidden = [50, 100, 150, 200, 250]\n",
    "learning = [0.1, 0.01, 0.001, 0.0001]\n",
    "\n",
    "# 400 epochs\n",
    "results[3]\n",
    "\n",
    "# 0.02648036 at 400 epochs with 15 sequence_length 200 hidden layers and learning rate of .01"
   ]
  },
  {
   "cell_type": "code",
   "execution_count": 125,
   "id": "8ba0e644",
   "metadata": {},
   "outputs": [
    {
     "data": {
      "text/plain": [
       "array([[[0., 0., 0., 0.],\n",
       "        [0., 0., 0., 0.],\n",
       "        [0., 0., 0., 0.],\n",
       "        [0., 0., 0., 0.],\n",
       "        [0., 0., 0., 0.]],\n",
       "\n",
       "       [[0., 0., 0., 0.],\n",
       "        [0., 0., 0., 0.],\n",
       "        [0., 0., 0., 0.],\n",
       "        [0., 0., 0., 0.],\n",
       "        [0., 0., 0., 0.]],\n",
       "\n",
       "       [[0., 0., 0., 0.],\n",
       "        [0., 0., 0., 0.],\n",
       "        [0., 0., 0., 0.],\n",
       "        [0., 0., 0., 0.],\n",
       "        [0., 0., 0., 0.]],\n",
       "\n",
       "       [[0., 0., 0., 0.],\n",
       "        [0., 0., 0., 0.],\n",
       "        [0., 0., 0., 0.],\n",
       "        [0., 0., 0., 0.],\n",
       "        [0., 0., 0., 0.]]])"
      ]
     },
     "execution_count": 125,
     "metadata": {},
     "output_type": "execute_result"
    }
   ],
   "source": [
    "epochs = [100, 200, 300, 400, 500]\n",
    "sequences = [5, 10, 15, 20]\n",
    "hidden = [50, 100, 150, 200, 250]\n",
    "learning = [0.1, 0.01, 0.001, 0.0001]\n",
    "\n",
    "# 500 epochs\n",
    "results[4]\n",
    "\n",
    "# 0.03323467 at 500 epochs with 15 sequence_length 250 hidden layers and learning rate of .01"
   ]
  },
  {
   "cell_type": "code",
   "execution_count": 178,
   "id": "119575bf",
   "metadata": {},
   "outputs": [],
   "source": [
    "# 0.02648036 at 400 epochs with 15 sequence_length 200 hidden layers and learning rate of .01\n",
    "\n",
    "TRAIN_X, TRAIN_Y, TEST_X, TEST_Y = prepare(15)\n",
    "model, criterion, optimizer = define_model(200, 0.01)\n",
    "h0, c0 = train(model, criterion, optimizer, TRAIN_X, TRAIN_Y, 400)\n",
    "h0_test = h0[:, :TEST_X.size(0), :].contiguous()\n",
    "c0_test = c0[:, :TEST_X.size(0), :].contiguous()\n",
    "\n",
    "rsme = test(model, TEST_X, TEST_Y)"
   ]
  },
  {
   "cell_type": "code",
   "execution_count": 179,
   "id": "c77ed13b",
   "metadata": {},
   "outputs": [
    {
     "data": {
      "text/plain": [
       "32.66866"
      ]
     },
     "execution_count": 179,
     "metadata": {},
     "output_type": "execute_result"
    }
   ],
   "source": [
    "rsme"
   ]
  },
  {
   "cell_type": "code",
   "execution_count": null,
   "id": "60ac37cb",
   "metadata": {},
   "outputs": [
    {
     "data": {
      "text/plain": [
       "torch.Size([15, 1])"
      ]
     },
     "execution_count": 187,
     "metadata": {},
     "output_type": "execute_result"
    }
   ],
   "source": [
    "TEST_X[-1].unsqueeze(0)"
   ]
  },
  {
   "cell_type": "code",
   "execution_count": 194,
   "id": "ca042ddc",
   "metadata": {},
   "outputs": [
    {
     "data": {
      "text/plain": [
       "1.131635"
      ]
     },
     "execution_count": 194,
     "metadata": {},
     "output_type": "execute_result"
    }
   ],
   "source": [
    "TEST_X.shape, TEST_Y.shape\n",
    "\n",
    "predict(model, TEST_X[-1].unsqueeze(0))[0][0]"
   ]
  },
  {
   "cell_type": "code",
   "execution_count": 111,
   "id": "fd666743",
   "metadata": {},
   "outputs": [
    {
     "ename": "ValueError",
     "evalue": "x and y must have same first dimension, but have shapes (270,) and (285, 1)",
     "output_type": "error",
     "traceback": [
      "\u001b[0;31m---------------------------------------------------------------------------\u001b[0m",
      "\u001b[0;31mValueError\u001b[0m                                Traceback (most recent call last)",
      "Cell \u001b[0;32mIn[111], line 21\u001b[0m\n\u001b[1;32m     18\u001b[0m     plt\u001b[38;5;241m.\u001b[39mlegend()\n\u001b[1;32m     19\u001b[0m     plt\u001b[38;5;241m.\u001b[39mshow()\n\u001b[0;32m---> 21\u001b[0m visualize(model, h0_test, c0_test, TEST_Y, \u001b[38;5;241m15\u001b[39m, TEST_X)\n",
      "Cell \u001b[0;32mIn[111], line 14\u001b[0m, in \u001b[0;36mvisualize\u001b[0;34m(model, h0, c0, TEST_Y, seq_length, TEST_X)\u001b[0m\n\u001b[1;32m     12\u001b[0m plt\u001b[38;5;241m.\u001b[39mfigure(figsize\u001b[38;5;241m=\u001b[39m(\u001b[38;5;241m12\u001b[39m, \u001b[38;5;241m6\u001b[39m))\n\u001b[1;32m     13\u001b[0m plt\u001b[38;5;241m.\u001b[39mplot(time_steps, original, label\u001b[38;5;241m=\u001b[39m\u001b[38;5;124m'\u001b[39m\u001b[38;5;124mOriginal Data\u001b[39m\u001b[38;5;124m'\u001b[39m)\n\u001b[0;32m---> 14\u001b[0m plt\u001b[38;5;241m.\u001b[39mplot(time_steps, predicted, label\u001b[38;5;241m=\u001b[39m\u001b[38;5;124m'\u001b[39m\u001b[38;5;124mPredicted Data\u001b[39m\u001b[38;5;124m'\u001b[39m, linestyle\u001b[38;5;241m=\u001b[39m\u001b[38;5;124m'\u001b[39m\u001b[38;5;124m--\u001b[39m\u001b[38;5;124m'\u001b[39m)\n\u001b[1;32m     15\u001b[0m plt\u001b[38;5;241m.\u001b[39mtitle(\u001b[38;5;124m'\u001b[39m\u001b[38;5;124mLSTM Model Predictions vs. Original Data\u001b[39m\u001b[38;5;124m'\u001b[39m)\n\u001b[1;32m     16\u001b[0m plt\u001b[38;5;241m.\u001b[39mxlabel(\u001b[38;5;124m'\u001b[39m\u001b[38;5;124mTime Step\u001b[39m\u001b[38;5;124m'\u001b[39m)\n",
      "File \u001b[0;32m/opt/anaconda3/lib/python3.12/site-packages/matplotlib/pyplot.py:3794\u001b[0m, in \u001b[0;36mplot\u001b[0;34m(scalex, scaley, data, *args, **kwargs)\u001b[0m\n\u001b[1;32m   3786\u001b[0m \u001b[38;5;129m@_copy_docstring_and_deprecators\u001b[39m(Axes\u001b[38;5;241m.\u001b[39mplot)\n\u001b[1;32m   3787\u001b[0m \u001b[38;5;28;01mdef\u001b[39;00m \u001b[38;5;21mplot\u001b[39m(\n\u001b[1;32m   3788\u001b[0m     \u001b[38;5;241m*\u001b[39margs: \u001b[38;5;28mfloat\u001b[39m \u001b[38;5;241m|\u001b[39m ArrayLike \u001b[38;5;241m|\u001b[39m \u001b[38;5;28mstr\u001b[39m,\n\u001b[0;32m   (...)\u001b[0m\n\u001b[1;32m   3792\u001b[0m     \u001b[38;5;241m*\u001b[39m\u001b[38;5;241m*\u001b[39mkwargs,\n\u001b[1;32m   3793\u001b[0m ) \u001b[38;5;241m-\u001b[39m\u001b[38;5;241m>\u001b[39m \u001b[38;5;28mlist\u001b[39m[Line2D]:\n\u001b[0;32m-> 3794\u001b[0m     \u001b[38;5;28;01mreturn\u001b[39;00m gca()\u001b[38;5;241m.\u001b[39mplot(\n\u001b[1;32m   3795\u001b[0m         \u001b[38;5;241m*\u001b[39margs,\n\u001b[1;32m   3796\u001b[0m         scalex\u001b[38;5;241m=\u001b[39mscalex,\n\u001b[1;32m   3797\u001b[0m         scaley\u001b[38;5;241m=\u001b[39mscaley,\n\u001b[1;32m   3798\u001b[0m         \u001b[38;5;241m*\u001b[39m\u001b[38;5;241m*\u001b[39m({\u001b[38;5;124m\"\u001b[39m\u001b[38;5;124mdata\u001b[39m\u001b[38;5;124m\"\u001b[39m: data} \u001b[38;5;28;01mif\u001b[39;00m data \u001b[38;5;129;01mis\u001b[39;00m \u001b[38;5;129;01mnot\u001b[39;00m \u001b[38;5;28;01mNone\u001b[39;00m \u001b[38;5;28;01melse\u001b[39;00m {}),\n\u001b[1;32m   3799\u001b[0m         \u001b[38;5;241m*\u001b[39m\u001b[38;5;241m*\u001b[39mkwargs,\n\u001b[1;32m   3800\u001b[0m     )\n",
      "File \u001b[0;32m/opt/anaconda3/lib/python3.12/site-packages/matplotlib/axes/_axes.py:1779\u001b[0m, in \u001b[0;36mAxes.plot\u001b[0;34m(self, scalex, scaley, data, *args, **kwargs)\u001b[0m\n\u001b[1;32m   1536\u001b[0m \u001b[38;5;250m\u001b[39m\u001b[38;5;124;03m\"\"\"\u001b[39;00m\n\u001b[1;32m   1537\u001b[0m \u001b[38;5;124;03mPlot y versus x as lines and/or markers.\u001b[39;00m\n\u001b[1;32m   1538\u001b[0m \n\u001b[0;32m   (...)\u001b[0m\n\u001b[1;32m   1776\u001b[0m \u001b[38;5;124;03m(``'green'``) or hex strings (``'#008000'``).\u001b[39;00m\n\u001b[1;32m   1777\u001b[0m \u001b[38;5;124;03m\"\"\"\u001b[39;00m\n\u001b[1;32m   1778\u001b[0m kwargs \u001b[38;5;241m=\u001b[39m cbook\u001b[38;5;241m.\u001b[39mnormalize_kwargs(kwargs, mlines\u001b[38;5;241m.\u001b[39mLine2D)\n\u001b[0;32m-> 1779\u001b[0m lines \u001b[38;5;241m=\u001b[39m [\u001b[38;5;241m*\u001b[39m\u001b[38;5;28mself\u001b[39m\u001b[38;5;241m.\u001b[39m_get_lines(\u001b[38;5;28mself\u001b[39m, \u001b[38;5;241m*\u001b[39margs, data\u001b[38;5;241m=\u001b[39mdata, \u001b[38;5;241m*\u001b[39m\u001b[38;5;241m*\u001b[39mkwargs)]\n\u001b[1;32m   1780\u001b[0m \u001b[38;5;28;01mfor\u001b[39;00m line \u001b[38;5;129;01min\u001b[39;00m lines:\n\u001b[1;32m   1781\u001b[0m     \u001b[38;5;28mself\u001b[39m\u001b[38;5;241m.\u001b[39madd_line(line)\n",
      "File \u001b[0;32m/opt/anaconda3/lib/python3.12/site-packages/matplotlib/axes/_base.py:296\u001b[0m, in \u001b[0;36m_process_plot_var_args.__call__\u001b[0;34m(self, axes, data, *args, **kwargs)\u001b[0m\n\u001b[1;32m    294\u001b[0m     this \u001b[38;5;241m+\u001b[39m\u001b[38;5;241m=\u001b[39m args[\u001b[38;5;241m0\u001b[39m],\n\u001b[1;32m    295\u001b[0m     args \u001b[38;5;241m=\u001b[39m args[\u001b[38;5;241m1\u001b[39m:]\n\u001b[0;32m--> 296\u001b[0m \u001b[38;5;28;01myield from\u001b[39;00m \u001b[38;5;28mself\u001b[39m\u001b[38;5;241m.\u001b[39m_plot_args(\n\u001b[1;32m    297\u001b[0m     axes, this, kwargs, ambiguous_fmt_datakey\u001b[38;5;241m=\u001b[39mambiguous_fmt_datakey)\n",
      "File \u001b[0;32m/opt/anaconda3/lib/python3.12/site-packages/matplotlib/axes/_base.py:486\u001b[0m, in \u001b[0;36m_process_plot_var_args._plot_args\u001b[0;34m(self, axes, tup, kwargs, return_kwargs, ambiguous_fmt_datakey)\u001b[0m\n\u001b[1;32m    483\u001b[0m     axes\u001b[38;5;241m.\u001b[39myaxis\u001b[38;5;241m.\u001b[39mupdate_units(y)\n\u001b[1;32m    485\u001b[0m \u001b[38;5;28;01mif\u001b[39;00m x\u001b[38;5;241m.\u001b[39mshape[\u001b[38;5;241m0\u001b[39m] \u001b[38;5;241m!=\u001b[39m y\u001b[38;5;241m.\u001b[39mshape[\u001b[38;5;241m0\u001b[39m]:\n\u001b[0;32m--> 486\u001b[0m     \u001b[38;5;28;01mraise\u001b[39;00m \u001b[38;5;167;01mValueError\u001b[39;00m(\u001b[38;5;124mf\u001b[39m\u001b[38;5;124m\"\u001b[39m\u001b[38;5;124mx and y must have same first dimension, but \u001b[39m\u001b[38;5;124m\"\u001b[39m\n\u001b[1;32m    487\u001b[0m                      \u001b[38;5;124mf\u001b[39m\u001b[38;5;124m\"\u001b[39m\u001b[38;5;124mhave shapes \u001b[39m\u001b[38;5;132;01m{\u001b[39;00mx\u001b[38;5;241m.\u001b[39mshape\u001b[38;5;132;01m}\u001b[39;00m\u001b[38;5;124m and \u001b[39m\u001b[38;5;132;01m{\u001b[39;00my\u001b[38;5;241m.\u001b[39mshape\u001b[38;5;132;01m}\u001b[39;00m\u001b[38;5;124m\"\u001b[39m)\n\u001b[1;32m    488\u001b[0m \u001b[38;5;28;01mif\u001b[39;00m x\u001b[38;5;241m.\u001b[39mndim \u001b[38;5;241m>\u001b[39m \u001b[38;5;241m2\u001b[39m \u001b[38;5;129;01mor\u001b[39;00m y\u001b[38;5;241m.\u001b[39mndim \u001b[38;5;241m>\u001b[39m \u001b[38;5;241m2\u001b[39m:\n\u001b[1;32m    489\u001b[0m     \u001b[38;5;28;01mraise\u001b[39;00m \u001b[38;5;167;01mValueError\u001b[39;00m(\u001b[38;5;124mf\u001b[39m\u001b[38;5;124m\"\u001b[39m\u001b[38;5;124mx and y can be no greater than 2D, but have \u001b[39m\u001b[38;5;124m\"\u001b[39m\n\u001b[1;32m    490\u001b[0m                      \u001b[38;5;124mf\u001b[39m\u001b[38;5;124m\"\u001b[39m\u001b[38;5;124mshapes \u001b[39m\u001b[38;5;132;01m{\u001b[39;00mx\u001b[38;5;241m.\u001b[39mshape\u001b[38;5;132;01m}\u001b[39;00m\u001b[38;5;124m and \u001b[39m\u001b[38;5;132;01m{\u001b[39;00my\u001b[38;5;241m.\u001b[39mshape\u001b[38;5;132;01m}\u001b[39;00m\u001b[38;5;124m\"\u001b[39m)\n",
      "\u001b[0;31mValueError\u001b[0m: x and y must have same first dimension, but have shapes (270,) and (285, 1)"
     ]
    },
    {
     "data": {
      "image/png": "[encoded data removed]",
      "text/plain": [
       "<Figure size 1200x600 with 1 Axes>"
      ]
     },
     "metadata": {},
     "output_type": "display_data"
    }
   ],
   "source": [
    "import matplotlib.pyplot as plt\n",
    "\n",
    "def visualize(model, h0, c0, TEST_Y, seq_length, TEST_X):\n",
    "    model.eval()\n",
    "    predicted, _, _ = model(TEST_X, h0, c0)\n",
    "\n",
    "    predicted = predicted.detach().numpy()\n",
    "\n",
    "    original = TEST_Y[seq_length:]\n",
    "    time_steps = np.arange(seq_length, len(TEST_Y))\n",
    "\n",
    "    plt.figure(figsize=(12, 6))\n",
    "    plt.plot(time_steps, original, label='Original Data')\n",
    "    plt.plot(time_steps, predicted, label='Predicted Data', linestyle='--')\n",
    "    plt.title('LSTM Model Predictions vs. Original Data')\n",
    "    plt.xlabel('Time Step')\n",
    "    plt.ylabel('Value')\n",
    "    plt.legend()\n",
    "    plt.show()\n",
    "\n",
    "visualize(model, h0_test, c0_test, TEST_Y, 15, TEST_X)"
   ]
  },
  {
   "cell_type": "code",
   "execution_count": null,
   "id": "a73a4753",
   "metadata": {},
   "outputs": [],
   "source": [
    "import influxdb_client\n",
    "import pandas as pd\n",
    "from influxdb_client.client.write_api import SYNCHRONOUS\n",
    "from environs import env\n",
    "import json\n",
    "\n",
    "\n",
    "def lstm():\n",
    "    TRAIN_X, TRAIN_Y, TEST_X, _ = prepare(15)\n",
    "    model, criterion, optimizer = define_model(200, 0.01)\n",
    "    train(model, criterion, optimizer, TRAIN_X, TRAIN_Y, 400)\n",
    "\n",
    "    return model, TEST_X\n",
    "\n",
    "def env_setup():\n",
    "    env.read_env()\n",
    "    bucket = env(\"INFLUXDB_BUCKET\")\n",
    "    org = env(\"INFLUXDB_ORGANIZATION\")\n",
    "    token = env(\"INFLUXDB_TOKEN\")\n",
    "\n",
    "    return token, org, bucket\n",
    "\n",
    "def parse_data():\n",
    "    df = pd.read_csv(\"../data/100_thermal_data.csv\")\n",
    "    result = df.head()\n",
    "    print(result)\n",
    "    return df\n",
    "\n",
    "def main():\n",
    "    model, TEST_X = lstm()\n",
    "\n",
    "    df = parse_data()\n",
    "    index = 71\n",
    "    test_index = 0\n",
    "\n",
    "    token, org, bucket = env_setup()\n",
    "    url=\"http://localhost:8086\"\n",
    "\n",
    "    client = influxdb_client.InfluxDBClient(\n",
    "        url=url,\n",
    "        token=token,\n",
    "        org=org\n",
    "    )\n",
    "\n",
    "    write_api = client.write_api(write_options=SYNCHRONOUS)\n",
    "\n",
    "    while test_index < 30:\n",
    "        timestamp = df.iloc[index]\n",
    "\n",
    "        prediction = predict(model, TEST_X[test_index].unsqueeze(0))[0][0]\n",
    "\n",
    "        try:            \n",
    "            point = (\n",
    "                influxdb_client.Point(\"thermal_readings\")\n",
    "                .tag(\"sensor\", \"SENSOR1\")\n",
    "                .field(\"temperature\", prediction)\n",
    "                .time(timestamp)\n",
    "            )\n",
    "            write_api.write(bucket=bucket, org=org, record=point)\n",
    "\n",
    "            index += 1\n",
    "            test_index += 1\n",
    "\n",
    "        except Exception as e:\n",
    "            print(\"❌ ERROR:\", e)"
   ]
  },
  {
   "cell_type": "code",
   "execution_count": 191,
   "id": "e5a9519d",
   "metadata": {},
   "outputs": [
    {
     "data": {
      "text/plain": [
       "torch.Size([15, 15, 1])"
      ]
     },
     "execution_count": 191,
     "metadata": {},
     "output_type": "execute_result"
    }
   ],
   "source": [
    "TEST_X.shape"
   ]
  },
  {
   "cell_type": "code",
   "execution_count": null,
   "id": "0d84a904",
   "metadata": {},
   "outputs": [],
   "source": []
  }
 ],
 "metadata": {
  "kernelspec": {
   "display_name": "Python 3",
   "language": "python",
   "name": "python3"
  },
  "language_info": {
   "codemirror_mode": {
    "name": "ipython",
    "version": 3
   },
   "file_extension": ".py",
   "mimetype": "text/x-python",
   "name": "python",
   "nbconvert_exporter": "python",
   "pygments_lexer": "ipython3",
   "version": "3.12.7"
  }
 },
 "nbformat": 4,
 "nbformat_minor": 5
}
