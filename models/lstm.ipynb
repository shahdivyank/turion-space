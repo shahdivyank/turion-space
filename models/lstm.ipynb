{
 "cells": [
  {
   "cell_type": "code",
   "execution_count": 154,
   "id": "39caa163",
   "metadata": {},
   "outputs": [],
   "source": [
    "import torch\n",
    "import torch.nn as nn\n",
    "import numpy as np\n",
    "\n",
    "np.random.seed(0)\n",
    "torch.manual_seed(0)\n",
    "\n",
    "def prepare(sequence):\n",
    "    SEQ_LENGTH = sequence\n",
    "    data = np.load(\"1.npy\")\n",
    "    testdata = np.load(\"1.npy\")\n",
    "\n",
    "    datapoints = len(data)\n",
    "\n",
    "    data = data[:int(datapoints * 0.7)]\n",
    "    testdata = testdata[int(datapoints * 0.7):]\n",
    "\n",
    "    data = (data - np.mean(data)) / np.std(data)\n",
    "\n",
    "    def create_sequences(data, testdata, seq_length):\n",
    "        xs = []\n",
    "        ys = []\n",
    "        tests = []\n",
    "        for i in range(len(data) - seq_length):\n",
    "            x = data[i: (i + seq_length)] # 20 datapoints\n",
    "            y = data[i + seq_length] # 21st datapoint\n",
    "            test = testdata[i: (i + seq_length)]\n",
    "            \n",
    "            if i + seq_length <= len(testdata):\n",
    "                test = testdata[i: (i + seq_length)]\n",
    "                tests.append(test)\n",
    "            xs.append(x)\n",
    "            ys.append(y)\n",
    "        \n",
    "        return np.array(xs), np.array(ys), np.array(tests)\n",
    "\n",
    "    X, y, TEST = create_sequences(data, testdata, SEQ_LENGTH,)\n",
    "\n",
    "    TRAIN_X = torch.tensor(X[:, :, None], dtype=torch.float32)\n",
    "    TRAIN_Y = torch.tensor(y[:, None], dtype=torch.float32)\n",
    "\n",
    "    TEST_X = torch.tensor(TEST[:, :, None], dtype=torch.float32)\n",
    "\n",
    "    return TRAIN_X, TRAIN_Y, TEST_X"
   ]
  },
  {
   "cell_type": "code",
   "execution_count": 155,
   "id": "d157dbf8",
   "metadata": {},
   "outputs": [],
   "source": [
    "TRAIN_X, TRAIN_Y, TEST_X = prepare(5)"
   ]
  },
  {
   "cell_type": "code",
   "execution_count": 156,
   "id": "b2cfacdc",
   "metadata": {},
   "outputs": [
    {
     "data": {
      "text/plain": [
       "(torch.Size([296, 5, 1]), torch.Size([694, 5, 1]))"
      ]
     },
     "execution_count": 156,
     "metadata": {},
     "output_type": "execute_result"
    }
   ],
   "source": [
    "TEST_X.shape, TRAIN_X.shape"
   ]
  },
  {
   "cell_type": "code",
   "execution_count": 157,
   "id": "d9653bd3",
   "metadata": {},
   "outputs": [],
   "source": [
    "class LSTMModel(nn.Module):\n",
    "    def __init__(self, input_dim, hidden_dim, layer_dim, output_dim):\n",
    "        super(LSTMModel, self).__init__()\n",
    "        self.hidden_dim = hidden_dim\n",
    "        self.layer_dim = layer_dim\n",
    "        self.lstm = nn.LSTM(input_dim, hidden_dim, layer_dim, batch_first = True)\n",
    "        self.fc = nn.Linear(hidden_dim, output_dim)\n",
    "\n",
    "    def forward(self, x, h0 = None, c0 = None):\n",
    "        if h0 is None or c0 is None:\n",
    "            h0 = torch.zeros(self.layer_dim, x.size(0), self.hidden_dim).to(x.device)\n",
    "            c0 = torch.zeros(self.layer_dim, x.size(0), self.hidden_dim).to(x.device)\n",
    "        \n",
    "        out, (hn, cn) = self.lstm(x, (h0, c0))\n",
    "        out = self.fc(out[:, -1, :])\n",
    "        return out, hn, cn"
   ]
  },
  {
   "cell_type": "code",
   "execution_count": 158,
   "id": "242649da",
   "metadata": {},
   "outputs": [],
   "source": [
    "def define_model(hidden, learning):\n",
    "    model = LSTMModel(input_dim = 1, hidden_dim = hidden, layer_dim = 1, output_dim = 1)\n",
    "    criterion = nn.MSELoss()\n",
    "    optimizer = torch.optim.Adam(model.parameters(), lr=learning)\n",
    "\n",
    "    return model, criterion, optimizer"
   ]
  },
  {
   "cell_type": "code",
   "execution_count": 159,
   "id": "52b2469e",
   "metadata": {},
   "outputs": [],
   "source": [
    "def train(model, criterion, optimizer, TRAIN_X, TRAIN_Y, epochs):\n",
    "    num_epochs = epochs\n",
    "    h0, c0 = None, None\n",
    "\n",
    "    for epoch in range(num_epochs):\n",
    "        model.train()\n",
    "        optimizer.zero_grad()\n",
    "\n",
    "        outputs, h0, c0 = model(TRAIN_X, h0, c0)\n",
    "\n",
    "        loss = criterion(outputs, TRAIN_Y)\n",
    "        loss.backward()\n",
    "        optimizer.step()\n",
    "\n",
    "        h0 = h0.detach()\n",
    "        c0 = c0.detach()\n",
    "\n",
    "    return h0, c0"
   ]
  },
  {
   "cell_type": "code",
   "execution_count": 160,
   "id": "8816e70c",
   "metadata": {},
   "outputs": [],
   "source": [
    "def test(model, TRAIN_X, TRAIN_Y, h0, c0):\n",
    "    model.eval()\n",
    "    predicted, _, _ = model(TRAIN_X, h0, c0)\n",
    "\n",
    "    predicted = predicted.detach().numpy()\n",
    "\n",
    "    return np.sqrt(np.mean((predicted.flatten() - TRAIN_Y.flatten().numpy())**2))\n",
    "    "
   ]
  },
  {
   "cell_type": "code",
   "execution_count": 99,
   "id": "a4363f72",
   "metadata": {},
   "outputs": [],
   "source": [
    "epochs = [100, 200, 300, 400, 500]\n",
    "sequences = [5, 10, 15, 20]\n",
    "hidden = [50, 100, 150, 200, 250]\n",
    "learning = [0.1, 0.01, 0.001, 0.0001]\n",
    "\n",
    "results = np.zeros((len(epochs), len(sequences), len(hidden), len(learning)))\n",
    "\n",
    "for epoch_index in range(len(epochs)):\n",
    "    for sequence_index in range(len(sequences)):\n",
    "        for hidden_index in range(len(hidden)):\n",
    "            for learning_index in range(len(learning)):\n",
    "                TRAIN_X, TRAIN_Y, dataset = prepare(sequences[sequence_index])\n",
    "                model, criterion, optimizer = define_model(hidden[hidden_index], learning[learning_index])\n",
    "                h0, c0 = train(model, criterion, optimizer, TRAIN_X, TRAIN_Y, epochs[epoch_index])\n",
    "\n",
    "                rsme = test(model, TRAIN_X, TRAIN_Y, h0, c0)\n",
    "\n",
    "                results[epoch_index][sequence_index][hidden_index][learning_index] = rsme"
   ]
  },
  {
   "cell_type": "code",
   "execution_count": 92,
   "id": "22bd030f",
   "metadata": {},
   "outputs": [
    {
     "data": {
      "image/png": "[encoded data removed]",
      "text/plain": [
       "<Figure size 1200x600 with 1 Axes>"
      ]
     },
     "metadata": {},
     "output_type": "display_data"
    }
   ],
   "source": [
    "import matplotlib.pyplot as plt\n",
    "\n",
    "def visualize(model, TRAIN_X, h0, c0, data, seq_length):\n",
    "    model.eval()\n",
    "    predicted, _, _ = model(TRAIN_X, h0, c0)\n",
    "\n",
    "    predicted = predicted.detach().numpy()\n",
    "\n",
    "    original = data[seq_length:]\n",
    "    time_steps = np.arange(seq_length, len(data))\n",
    "\n",
    "    plt.figure(figsize=(12, 6))\n",
    "    plt.plot(time_steps, original, label='Original Data')\n",
    "    plt.plot(time_steps, predicted, label='Predicted Data', linestyle='--')\n",
    "    plt.title('LSTM Model Predictions vs. Original Data')\n",
    "    plt.xlabel('Time Step')\n",
    "    plt.ylabel('Value')\n",
    "    plt.legend()\n",
    "    plt.show()\n",
    "\n",
    "visualize(model, TRAIN_X, h0, c0, dataset, 10)"
   ]
  },
  {
   "cell_type": "code",
   "execution_count": null,
   "id": "27f9cad5",
   "metadata": {},
   "outputs": [],
   "source": []
  },
  {
   "cell_type": "code",
   "execution_count": 69,
   "id": "b23db0c8",
   "metadata": {},
   "outputs": [
    {
     "data": {
      "text/plain": [
       "0.7680221"
      ]
     },
     "execution_count": 69,
     "metadata": {},
     "output_type": "execute_result"
    }
   ],
   "source": [
    "rsme"
   ]
  },
  {
   "cell_type": "code",
   "execution_count": 103,
   "id": "8fbe0b1f",
   "metadata": {},
   "outputs": [
    {
     "data": {
      "text/plain": [
       "(4, 5, 4)"
      ]
     },
     "execution_count": 103,
     "metadata": {},
     "output_type": "execute_result"
    }
   ],
   "source": [
    "results[0].shape"
   ]
  },
  {
   "cell_type": "code",
   "execution_count": null,
   "id": "1f61b191",
   "metadata": {},
   "outputs": [
    {
     "data": {
      "text/plain": [
       "array([[[0.90597761, 0.94364065, 1.0139538 , 1.02124965],\n",
       "        [1.02073634, 0.97129798, 1.01264536, 1.01946974],\n",
       "        [0.95992821, 0.97677422, 1.01061332, 1.01753294],\n",
       "        [0.9900527 , 0.97885728, 1.01886475, 1.01828647],\n",
       "        [1.02406514, 0.98451835, 1.01001751, 1.01645851]],\n",
       "\n",
       "       [[0.88393754, 0.93167847, 0.98932147, 1.01135695],\n",
       "        [0.98857117, 0.97826695, 0.99085706, 1.00742388],\n",
       "        [0.94692034, 0.92664522, 0.98705798, 1.00670695],\n",
       "        [1.00695765, 0.89918274, 1.00291419, 1.00662255],\n",
       "        [0.94421947, 0.95384675, 0.98051971, 1.00544095]],\n",
       "\n",
       "       [[0.48408106, 0.83012229, 0.99265599, 1.03967583],\n",
       "        [0.92595387, 0.739133  , 0.98188835, 1.03530824],\n",
       "        [0.9526751 , 0.79939443, 0.98096615, 1.03338099],\n",
       "        [0.96508473, 1.03112352, 0.9903003 , 1.02736223],\n",
       "        [1.02023256, 0.80130768, 0.99655235, 1.02031958]],\n",
       "\n",
       "       [[0.95463562, 0.84883595, 0.94590759, 0.96140963],\n",
       "        [0.88468558, 0.95798331, 0.83214778, 0.96129113],\n",
       "        [0.96487439, 0.82464617, 0.81109792, 0.96083474],\n",
       "        [0.95169091, 0.97168565, 0.83589089, 0.96064556],\n",
       "        [0.9596532 , 0.87370485, 0.93905884, 0.94261169]]])"
      ]
     },
     "execution_count": 109,
     "metadata": {},
     "output_type": "execute_result"
    }
   ],
   "source": [
    "epochs = [100, 200, 300, 400, 500]\n",
    "sequences = [5, 10, 15, 20]\n",
    "hidden = [50, 100, 150, 200, 250]\n",
    "learning = [0.1, 0.01, 0.001, 0.0001]\n",
    "\n",
    "# 100 epochs\n",
    "results[0]\n",
    "\n",
    "# 0.739133 at 100 epochs with 15 sequence_length 100 hidden layers and learning rate of .01"
   ]
  },
  {
   "cell_type": "code",
   "execution_count": null,
   "id": "19039b61",
   "metadata": {},
   "outputs": [
    {
     "data": {
      "text/plain": [
       "array([[[0.96583182, 0.95676762, 0.99678689, 1.01860082],\n",
       "        [0.94595242, 0.95844024, 1.01252508, 1.01538181],\n",
       "        [0.92222923, 0.83506799, 1.00048685, 1.01506305],\n",
       "        [1.02383196, 0.96347028, 0.99560392, 1.01397526],\n",
       "        [1.0166322 , 0.97828978, 1.01657557, 1.01373351]],\n",
       "\n",
       "       [[0.84089839, 0.61818993, 0.93846381, 1.00750971],\n",
       "        [0.75195038, 0.86349249, 0.94650531, 1.00550306],\n",
       "        [0.95807254, 0.94002146, 0.90628725, 0.98710692],\n",
       "        [1.01427698, 0.92139095, 0.95383203, 0.98686934],\n",
       "        [1.01400459, 1.14515734, 0.97338635, 0.9901495 ]],\n",
       "\n",
       "       [[0.98866445, 0.76739812, 0.91687828, 1.03266025],\n",
       "        [0.96007961, 0.96130532, 0.87863791, 1.02748811],\n",
       "        [0.64758772, 0.84115762, 0.92310417, 1.0016824 ],\n",
       "        [0.91157812, 0.71045554, 0.9807806 , 0.98095506],\n",
       "        [1.03105843, 0.97820085, 0.89412791, 0.98409462]],\n",
       "\n",
       "       [[0.77155519, 0.76824307, 0.8301456 , 0.96104985],\n",
       "        [0.81022894, 0.95264685, 0.86439341, 0.96031618],\n",
       "        [0.8929534 , 0.95368075, 0.80663204, 0.91151422],\n",
       "        [0.95116389, 0.93580317, 0.88265872, 0.92298663],\n",
       "        [0.70605534, 0.88989848, 0.80343604, 0.95096177]]])"
      ]
     },
     "execution_count": 112,
     "metadata": {},
     "output_type": "execute_result"
    }
   ],
   "source": [
    "epochs = [100, 200, 300, 400, 500]\n",
    "sequences = [5, 10, 15, 20]\n",
    "hidden = [50, 100, 150, 200, 250]\n",
    "learning = [0.1, 0.01, 0.001, 0.0001]\n",
    "\n",
    "# 200 epochs\n",
    "results[1]\n",
    "\n",
    "# 0.61818993 at 200 epochs with 10 sequence_length 50 hidden layers and learning rate of .01"
   ]
  },
  {
   "cell_type": "code",
   "execution_count": null,
   "id": "1f3cf480",
   "metadata": {},
   "outputs": [
    {
     "data": {
      "text/plain": [
       "array([[[0.86529404, 0.91559988, 0.98882657, 1.01505101],\n",
       "        [0.93744242, 0.74652117, 0.99239671, 1.00167453],\n",
       "        [1.0230906 , 0.87677616, 0.98940682, 1.02318859],\n",
       "        [0.96929282, 0.86885959, 0.99130464, 1.02047586],\n",
       "        [1.02396429, 0.83058888, 0.97209907, 1.14749539]],\n",
       "\n",
       "       [[0.88246918, 0.58730048, 0.88522029, 1.00520551],\n",
       "        [0.92454439, 0.87544358, 0.90523922, 0.99151415],\n",
       "        [0.86192966, 0.6469844 , 0.94513756, 0.98387575],\n",
       "        [0.97830075, 0.77436483, 0.88592207, 0.97887528],\n",
       "        [0.82929146, 0.69614965, 0.97256154, 0.98133594]],\n",
       "\n",
       "       [[0.95970362, 0.30953723, 0.87172818, 1.03498268],\n",
       "        [0.07704759, 0.31178319, 0.93141401, 1.00476503],\n",
       "        [0.39905468, 0.20130691, 0.86016321, 0.97664237],\n",
       "        [1.04134476, 0.11933544, 0.80813885, 0.96806473],\n",
       "        [1.01171327, 0.9371748 , 0.83873618, 0.97664142]],\n",
       "\n",
       "       [[0.63730812, 0.68852448, 0.7803998 , 0.92539364],\n",
       "        [0.8801825 , 0.66779101, 0.69863343, 0.91902298],\n",
       "        [1.02563083, 0.0785686 , 0.62575436, 0.9049567 ],\n",
       "        [0.96342361, 0.83235776, 0.71869922, 0.93035835],\n",
       "        [0.96325165, 0.77898842, 0.78471965, 0.9615854 ]]])"
      ]
     },
     "execution_count": 113,
     "metadata": {},
     "output_type": "execute_result"
    }
   ],
   "source": [
    "epochs = [100, 200, 300, 400, 500]\n",
    "sequences = [5, 10, 15, 20]\n",
    "hidden = [50, 100, 150, 200, 250]\n",
    "learning = [0.1, 0.01, 0.001, 0.0001]\n",
    "\n",
    "# 300 epochs\n",
    "results[2]\n",
    "\n",
    "# 0.07704759 at 300 epochs with 15 sequence_length 100 hidden layers and learning rate of .1"
   ]
  },
  {
   "cell_type": "code",
   "execution_count": null,
   "id": "139ad11c",
   "metadata": {},
   "outputs": [
    {
     "data": {
      "text/plain": [
       "array([[[0.56286275, 0.63248348, 0.98081237, 1.0083698 ],\n",
       "        [0.87634301, 0.7391789 , 0.98747796, 1.01441193],\n",
       "        [1.02143717, 0.92114133, 1.01429355, 1.01196492],\n",
       "        [0.97759241, 0.67224687, 0.96921867, 1.01303279],\n",
       "        [0.92716181, 0.91557652, 0.96601355, 1.01334023]],\n",
       "\n",
       "       [[0.51647145, 0.78703558, 0.90351266, 0.98267031],\n",
       "        [0.850896  , 1.08262658, 0.83675861, 0.97860605],\n",
       "        [0.6020788 , 0.45053452, 0.67638952, 0.97667032],\n",
       "        [0.98176748, 0.68762171, 0.77453703, 0.96900064],\n",
       "        [1.00791633, 0.68797797, 0.717327  , 0.97889584]],\n",
       "\n",
       "       [[0.12951402, 0.53789586, 0.85270786, 0.98237467],\n",
       "        [0.99132091, 0.24681304, 0.84923536, 0.99129951],\n",
       "        [0.97770858, 0.16848861, 0.84279263, 0.96670133],\n",
       "        [1.02936339, 0.02648036, 0.88024706, 0.95273077],\n",
       "        [1.01831865, 0.13918926, 0.79852432, 0.98821902]],\n",
       "\n",
       "       [[0.5439015 , 0.19254327, 0.83579522, 0.95889628],\n",
       "        [0.62203699, 0.3010737 , 0.62926745, 0.89205325],\n",
       "        [0.94577777, 0.26115224, 0.95880371, 0.83392453],\n",
       "        [0.82952768, 0.78530908, 0.88611722, 0.85087508],\n",
       "        [0.92886966, 0.44240797, 0.63301826, 0.88327235]]])"
      ]
     },
     "execution_count": 114,
     "metadata": {},
     "output_type": "execute_result"
    }
   ],
   "source": [
    "epochs = [100, 200, 300, 400, 500]\n",
    "sequences = [5, 10, 15, 20]\n",
    "hidden = [50, 100, 150, 200, 250]\n",
    "learning = [0.1, 0.01, 0.001, 0.0001]\n",
    "\n",
    "# 400 epochs\n",
    "results[3]\n",
    "\n",
    "# 0.02648036 at 400 epochs with 15 sequence_length 200 hidden layers and learning rate of .01"
   ]
  },
  {
   "cell_type": "code",
   "execution_count": null,
   "id": "8ba0e644",
   "metadata": {},
   "outputs": [
    {
     "data": {
      "text/plain": [
       "array([[[0.56844538, 0.84608942, 0.992935  , 1.00838935],\n",
       "        [0.60477883, 0.66154087, 0.97447121, 1.00558364],\n",
       "        [0.81023729, 0.85294658, 0.9566043 , 1.00624061],\n",
       "        [0.99439365, 0.75804937, 0.95997143, 1.01348376],\n",
       "        [0.90284753, 0.82993859, 0.97957122, 1.00965321]],\n",
       "\n",
       "       [[0.1797054 , 0.64076561, 0.74027121, 0.97306883],\n",
       "        [0.24286784, 0.56415516, 0.61410677, 0.97162551],\n",
       "        [0.63172817, 0.86580199, 0.62548846, 0.96028787],\n",
       "        [0.94317961, 0.66846877, 0.68938339, 0.96704328],\n",
       "        [0.96713376, 0.67716378, 0.81230277, 0.96462637]],\n",
       "\n",
       "       [[0.74604607, 0.28584483, 0.75566113, 0.97063226],\n",
       "        [0.92636102, 0.19226308, 0.79966784, 1.01264572],\n",
       "        [0.58495623, 0.17152691, 0.87240869, 0.95065111],\n",
       "        [0.98052955, 0.03585071, 0.98780918, 0.93593508],\n",
       "        [0.77797979, 0.03323467, 0.70661932, 1.05129051]],\n",
       "\n",
       "       [[0.72438288, 0.63026166, 0.74302876, 0.89507395],\n",
       "        [0.70964766, 0.67470407, 0.61271644, 0.90063679],\n",
       "        [0.9633832 , 0.03745016, 0.43955272, 0.93105912],\n",
       "        [0.96339893, 0.72638476, 0.4863202 , 0.95634401],\n",
       "        [0.96339905, 0.06839859, 0.81441629, 0.80101055]]])"
      ]
     },
     "execution_count": 116,
     "metadata": {},
     "output_type": "execute_result"
    }
   ],
   "source": [
    "epochs = [100, 200, 300, 400, 500]\n",
    "sequences = [5, 10, 15, 20]\n",
    "hidden = [50, 100, 150, 200, 250]\n",
    "learning = [0.1, 0.01, 0.001, 0.0001]\n",
    "\n",
    "# 500 epochs\n",
    "results[4]\n",
    "\n",
    "# 0.03323467 at 500 epochs with 15 sequence_length 250 hidden layers and learning rate of .01"
   ]
  },
  {
   "cell_type": "code",
   "execution_count": 161,
   "id": "119575bf",
   "metadata": {},
   "outputs": [],
   "source": [
    "# 0.02648036 at 400 epochs with 15 sequence_length 200 hidden layers and learning rate of .01\n",
    "\n",
    "TRAIN_X, TRAIN_Y, TEST_X = prepare(5)\n",
    "model, criterion, optimizer = define_model(200, 0.01)\n",
    "h0, c0 = train(model, criterion, optimizer, TRAIN_X, TRAIN_Y, 400)\n",
    "\n",
    "rsme = test(model, TRAIN_X, TRAIN_Y, h0, c0)"
   ]
  },
  {
   "cell_type": "code",
   "execution_count": 162,
   "id": "c77ed13b",
   "metadata": {},
   "outputs": [
    {
     "data": {
      "text/plain": [
       "0.90548736"
      ]
     },
     "execution_count": 162,
     "metadata": {},
     "output_type": "execute_result"
    }
   ],
   "source": [
    "rsme"
   ]
  },
  {
   "cell_type": "code",
   "execution_count": null,
   "id": "fd666743",
   "metadata": {},
   "outputs": [
    {
     "ename": "AttributeError",
     "evalue": "'numpy.ndarray' object has no attribute 'dim'",
     "output_type": "error",
     "traceback": [
      "\u001b[0;31m---------------------------------------------------------------------------\u001b[0m",
      "\u001b[0;31mAttributeError\u001b[0m                            Traceback (most recent call last)",
      "Cell \u001b[0;32mIn[127], line 23\u001b[0m\n\u001b[1;32m     20\u001b[0m     plt\u001b[38;5;241m.\u001b[39mlegend()\n\u001b[1;32m     21\u001b[0m     plt\u001b[38;5;241m.\u001b[39mshow()\n\u001b[0;32m---> 23\u001b[0m \u001b[43mvisualize\u001b[49m\u001b[43m(\u001b[49m\u001b[43mmodel\u001b[49m\u001b[43m,\u001b[49m\u001b[43m \u001b[49m\u001b[43mh0\u001b[49m\u001b[43m,\u001b[49m\u001b[43m \u001b[49m\u001b[43mc0\u001b[49m\u001b[43m,\u001b[49m\u001b[43m \u001b[49m\u001b[43mdataset\u001b[49m\u001b[43m,\u001b[49m\u001b[43m \u001b[49m\u001b[38;5;241;43m15\u001b[39;49m\u001b[43m)\u001b[49m\n",
      "Cell \u001b[0;32mIn[127], line 7\u001b[0m, in \u001b[0;36mvisualize\u001b[0;34m(model, h0, c0, data, seq_length)\u001b[0m\n\u001b[1;32m      5\u001b[0m \u001b[38;5;28;01mdef\u001b[39;00m \u001b[38;5;21mvisualize\u001b[39m(model, h0, c0, data, seq_length):\n\u001b[1;32m      6\u001b[0m     model\u001b[38;5;241m.\u001b[39meval()\n\u001b[0;32m----> 7\u001b[0m     predicted, _, _ \u001b[38;5;241m=\u001b[39m \u001b[43mmodel\u001b[49m\u001b[43m(\u001b[49m\u001b[43mtest\u001b[49m\u001b[43m,\u001b[49m\u001b[43m \u001b[49m\u001b[43mh0\u001b[49m\u001b[43m,\u001b[49m\u001b[43m \u001b[49m\u001b[43mc0\u001b[49m\u001b[43m)\u001b[49m\n\u001b[1;32m      9\u001b[0m     predicted \u001b[38;5;241m=\u001b[39m predicted\u001b[38;5;241m.\u001b[39mdetach()\u001b[38;5;241m.\u001b[39mnumpy()\n\u001b[1;32m     11\u001b[0m     original \u001b[38;5;241m=\u001b[39m data[seq_length:]\n",
      "File \u001b[0;32m~/Desktop/CS228/.conda/lib/python3.9/site-packages/torch/nn/modules/module.py:1736\u001b[0m, in \u001b[0;36mModule._wrapped_call_impl\u001b[0;34m(self, *args, **kwargs)\u001b[0m\n\u001b[1;32m   1734\u001b[0m     \u001b[38;5;28;01mreturn\u001b[39;00m \u001b[38;5;28mself\u001b[39m\u001b[38;5;241m.\u001b[39m_compiled_call_impl(\u001b[38;5;241m*\u001b[39margs, \u001b[38;5;241m*\u001b[39m\u001b[38;5;241m*\u001b[39mkwargs)  \u001b[38;5;66;03m# type: ignore[misc]\u001b[39;00m\n\u001b[1;32m   1735\u001b[0m \u001b[38;5;28;01melse\u001b[39;00m:\n\u001b[0;32m-> 1736\u001b[0m     \u001b[38;5;28;01mreturn\u001b[39;00m \u001b[38;5;28;43mself\u001b[39;49m\u001b[38;5;241;43m.\u001b[39;49m\u001b[43m_call_impl\u001b[49m\u001b[43m(\u001b[49m\u001b[38;5;241;43m*\u001b[39;49m\u001b[43margs\u001b[49m\u001b[43m,\u001b[49m\u001b[43m \u001b[49m\u001b[38;5;241;43m*\u001b[39;49m\u001b[38;5;241;43m*\u001b[39;49m\u001b[43mkwargs\u001b[49m\u001b[43m)\u001b[49m\n",
      "File \u001b[0;32m~/Desktop/CS228/.conda/lib/python3.9/site-packages/torch/nn/modules/module.py:1747\u001b[0m, in \u001b[0;36mModule._call_impl\u001b[0;34m(self, *args, **kwargs)\u001b[0m\n\u001b[1;32m   1742\u001b[0m \u001b[38;5;66;03m# If we don't have any hooks, we want to skip the rest of the logic in\u001b[39;00m\n\u001b[1;32m   1743\u001b[0m \u001b[38;5;66;03m# this function, and just call forward.\u001b[39;00m\n\u001b[1;32m   1744\u001b[0m \u001b[38;5;28;01mif\u001b[39;00m \u001b[38;5;129;01mnot\u001b[39;00m (\u001b[38;5;28mself\u001b[39m\u001b[38;5;241m.\u001b[39m_backward_hooks \u001b[38;5;129;01mor\u001b[39;00m \u001b[38;5;28mself\u001b[39m\u001b[38;5;241m.\u001b[39m_backward_pre_hooks \u001b[38;5;129;01mor\u001b[39;00m \u001b[38;5;28mself\u001b[39m\u001b[38;5;241m.\u001b[39m_forward_hooks \u001b[38;5;129;01mor\u001b[39;00m \u001b[38;5;28mself\u001b[39m\u001b[38;5;241m.\u001b[39m_forward_pre_hooks\n\u001b[1;32m   1745\u001b[0m         \u001b[38;5;129;01mor\u001b[39;00m _global_backward_pre_hooks \u001b[38;5;129;01mor\u001b[39;00m _global_backward_hooks\n\u001b[1;32m   1746\u001b[0m         \u001b[38;5;129;01mor\u001b[39;00m _global_forward_hooks \u001b[38;5;129;01mor\u001b[39;00m _global_forward_pre_hooks):\n\u001b[0;32m-> 1747\u001b[0m     \u001b[38;5;28;01mreturn\u001b[39;00m \u001b[43mforward_call\u001b[49m\u001b[43m(\u001b[49m\u001b[38;5;241;43m*\u001b[39;49m\u001b[43margs\u001b[49m\u001b[43m,\u001b[49m\u001b[43m \u001b[49m\u001b[38;5;241;43m*\u001b[39;49m\u001b[38;5;241;43m*\u001b[39;49m\u001b[43mkwargs\u001b[49m\u001b[43m)\u001b[49m\n\u001b[1;32m   1749\u001b[0m result \u001b[38;5;241m=\u001b[39m \u001b[38;5;28;01mNone\u001b[39;00m\n\u001b[1;32m   1750\u001b[0m called_always_called_hooks \u001b[38;5;241m=\u001b[39m \u001b[38;5;28mset\u001b[39m()\n",
      "Cell \u001b[0;32mIn[121], line 14\u001b[0m, in \u001b[0;36mLSTMModel.forward\u001b[0;34m(self, x, h0, c0)\u001b[0m\n\u001b[1;32m     11\u001b[0m     h0 \u001b[38;5;241m=\u001b[39m torch\u001b[38;5;241m.\u001b[39mzeros(\u001b[38;5;28mself\u001b[39m\u001b[38;5;241m.\u001b[39mlayer_dim, x\u001b[38;5;241m.\u001b[39msize(\u001b[38;5;241m0\u001b[39m), \u001b[38;5;28mself\u001b[39m\u001b[38;5;241m.\u001b[39mhidden_dim)\u001b[38;5;241m.\u001b[39mto(x\u001b[38;5;241m.\u001b[39mdevice)\n\u001b[1;32m     12\u001b[0m     c0 \u001b[38;5;241m=\u001b[39m torch\u001b[38;5;241m.\u001b[39mzeros(\u001b[38;5;28mself\u001b[39m\u001b[38;5;241m.\u001b[39mlayer_dim, x\u001b[38;5;241m.\u001b[39msize(\u001b[38;5;241m0\u001b[39m), \u001b[38;5;28mself\u001b[39m\u001b[38;5;241m.\u001b[39mhidden_dim)\u001b[38;5;241m.\u001b[39mto(x\u001b[38;5;241m.\u001b[39mdevice)\n\u001b[0;32m---> 14\u001b[0m out, (hn, cn) \u001b[38;5;241m=\u001b[39m \u001b[38;5;28;43mself\u001b[39;49m\u001b[38;5;241;43m.\u001b[39;49m\u001b[43mlstm\u001b[49m\u001b[43m(\u001b[49m\u001b[43mx\u001b[49m\u001b[43m,\u001b[49m\u001b[43m \u001b[49m\u001b[43m(\u001b[49m\u001b[43mh0\u001b[49m\u001b[43m,\u001b[49m\u001b[43m \u001b[49m\u001b[43mc0\u001b[49m\u001b[43m)\u001b[49m\u001b[43m)\u001b[49m\n\u001b[1;32m     15\u001b[0m out \u001b[38;5;241m=\u001b[39m \u001b[38;5;28mself\u001b[39m\u001b[38;5;241m.\u001b[39mfc(out[:, \u001b[38;5;241m-\u001b[39m\u001b[38;5;241m1\u001b[39m, :])\n\u001b[1;32m     16\u001b[0m \u001b[38;5;28;01mreturn\u001b[39;00m out, hn, cn\n",
      "File \u001b[0;32m~/Desktop/CS228/.conda/lib/python3.9/site-packages/torch/nn/modules/module.py:1736\u001b[0m, in \u001b[0;36mModule._wrapped_call_impl\u001b[0;34m(self, *args, **kwargs)\u001b[0m\n\u001b[1;32m   1734\u001b[0m     \u001b[38;5;28;01mreturn\u001b[39;00m \u001b[38;5;28mself\u001b[39m\u001b[38;5;241m.\u001b[39m_compiled_call_impl(\u001b[38;5;241m*\u001b[39margs, \u001b[38;5;241m*\u001b[39m\u001b[38;5;241m*\u001b[39mkwargs)  \u001b[38;5;66;03m# type: ignore[misc]\u001b[39;00m\n\u001b[1;32m   1735\u001b[0m \u001b[38;5;28;01melse\u001b[39;00m:\n\u001b[0;32m-> 1736\u001b[0m     \u001b[38;5;28;01mreturn\u001b[39;00m \u001b[38;5;28;43mself\u001b[39;49m\u001b[38;5;241;43m.\u001b[39;49m\u001b[43m_call_impl\u001b[49m\u001b[43m(\u001b[49m\u001b[38;5;241;43m*\u001b[39;49m\u001b[43margs\u001b[49m\u001b[43m,\u001b[49m\u001b[43m \u001b[49m\u001b[38;5;241;43m*\u001b[39;49m\u001b[38;5;241;43m*\u001b[39;49m\u001b[43mkwargs\u001b[49m\u001b[43m)\u001b[49m\n",
      "File \u001b[0;32m~/Desktop/CS228/.conda/lib/python3.9/site-packages/torch/nn/modules/module.py:1747\u001b[0m, in \u001b[0;36mModule._call_impl\u001b[0;34m(self, *args, **kwargs)\u001b[0m\n\u001b[1;32m   1742\u001b[0m \u001b[38;5;66;03m# If we don't have any hooks, we want to skip the rest of the logic in\u001b[39;00m\n\u001b[1;32m   1743\u001b[0m \u001b[38;5;66;03m# this function, and just call forward.\u001b[39;00m\n\u001b[1;32m   1744\u001b[0m \u001b[38;5;28;01mif\u001b[39;00m \u001b[38;5;129;01mnot\u001b[39;00m (\u001b[38;5;28mself\u001b[39m\u001b[38;5;241m.\u001b[39m_backward_hooks \u001b[38;5;129;01mor\u001b[39;00m \u001b[38;5;28mself\u001b[39m\u001b[38;5;241m.\u001b[39m_backward_pre_hooks \u001b[38;5;129;01mor\u001b[39;00m \u001b[38;5;28mself\u001b[39m\u001b[38;5;241m.\u001b[39m_forward_hooks \u001b[38;5;129;01mor\u001b[39;00m \u001b[38;5;28mself\u001b[39m\u001b[38;5;241m.\u001b[39m_forward_pre_hooks\n\u001b[1;32m   1745\u001b[0m         \u001b[38;5;129;01mor\u001b[39;00m _global_backward_pre_hooks \u001b[38;5;129;01mor\u001b[39;00m _global_backward_hooks\n\u001b[1;32m   1746\u001b[0m         \u001b[38;5;129;01mor\u001b[39;00m _global_forward_hooks \u001b[38;5;129;01mor\u001b[39;00m _global_forward_pre_hooks):\n\u001b[0;32m-> 1747\u001b[0m     \u001b[38;5;28;01mreturn\u001b[39;00m \u001b[43mforward_call\u001b[49m\u001b[43m(\u001b[49m\u001b[38;5;241;43m*\u001b[39;49m\u001b[43margs\u001b[49m\u001b[43m,\u001b[49m\u001b[43m \u001b[49m\u001b[38;5;241;43m*\u001b[39;49m\u001b[38;5;241;43m*\u001b[39;49m\u001b[43mkwargs\u001b[49m\u001b[43m)\u001b[49m\n\u001b[1;32m   1749\u001b[0m result \u001b[38;5;241m=\u001b[39m \u001b[38;5;28;01mNone\u001b[39;00m\n\u001b[1;32m   1750\u001b[0m called_always_called_hooks \u001b[38;5;241m=\u001b[39m \u001b[38;5;28mset\u001b[39m()\n",
      "File \u001b[0;32m~/Desktop/CS228/.conda/lib/python3.9/site-packages/torch/nn/modules/rnn.py:1073\u001b[0m, in \u001b[0;36mLSTM.forward\u001b[0;34m(self, input, hx)\u001b[0m\n\u001b[1;32m   1071\u001b[0m         hx \u001b[38;5;241m=\u001b[39m \u001b[38;5;28mself\u001b[39m\u001b[38;5;241m.\u001b[39mpermute_hidden(hx, sorted_indices)\n\u001b[1;32m   1072\u001b[0m \u001b[38;5;28;01melse\u001b[39;00m:\n\u001b[0;32m-> 1073\u001b[0m     \u001b[38;5;28;01mif\u001b[39;00m \u001b[38;5;28;43minput\u001b[39;49m\u001b[38;5;241;43m.\u001b[39;49m\u001b[43mdim\u001b[49m() \u001b[38;5;129;01mnot\u001b[39;00m \u001b[38;5;129;01min\u001b[39;00m (\u001b[38;5;241m2\u001b[39m, \u001b[38;5;241m3\u001b[39m):\n\u001b[1;32m   1074\u001b[0m         \u001b[38;5;28;01mraise\u001b[39;00m \u001b[38;5;167;01mValueError\u001b[39;00m(\n\u001b[1;32m   1075\u001b[0m             \u001b[38;5;124mf\u001b[39m\u001b[38;5;124m\"\u001b[39m\u001b[38;5;124mLSTM: Expected input to be 2D or 3D, got \u001b[39m\u001b[38;5;132;01m{\u001b[39;00m\u001b[38;5;28minput\u001b[39m\u001b[38;5;241m.\u001b[39mdim()\u001b[38;5;132;01m}\u001b[39;00m\u001b[38;5;124mD instead\u001b[39m\u001b[38;5;124m\"\u001b[39m\n\u001b[1;32m   1076\u001b[0m         )\n\u001b[1;32m   1077\u001b[0m     is_batched \u001b[38;5;241m=\u001b[39m \u001b[38;5;28minput\u001b[39m\u001b[38;5;241m.\u001b[39mdim() \u001b[38;5;241m==\u001b[39m \u001b[38;5;241m3\u001b[39m\n",
      "\u001b[0;31mAttributeError\u001b[0m: 'numpy.ndarray' object has no attribute 'dim'"
     ]
    }
   ],
   "source": [
    "import matplotlib.pyplot as plt\n",
    "\n",
    "def visualize(model, h0, c0, data, seq_length, TEST_X):\n",
    "    model.eval()\n",
    "    predicted, _, _ = model(TEST_X, h0, c0)\n",
    "\n",
    "    predicted = predicted.detach().numpy()\n",
    "\n",
    "    original = data[seq_length:]\n",
    "    time_steps = np.arange(seq_length, len(data))\n",
    "\n",
    "    plt.figure(figsize=(12, 6))\n",
    "    plt.plot(time_steps, original, label='Original Data')\n",
    "    plt.plot(time_steps, predicted, label='Predicted Data', linestyle='--')\n",
    "    plt.title('LSTM Model Predictions vs. Original Data')\n",
    "    plt.xlabel('Time Step')\n",
    "    plt.ylabel('Value')\n",
    "    plt.legend()\n",
    "    plt.show()\n",
    "\n",
    "visualize(model, h0, c0, dataset, 15, TEST_X)"
   ]
  },
  {
   "cell_type": "code",
   "execution_count": null,
   "id": "a73a4753",
   "metadata": {},
   "outputs": [],
   "source": []
  }
 ],
 "metadata": {
  "kernelspec": {
   "display_name": "Python 3",
   "language": "python",
   "name": "python3"
  },
  "language_info": {
   "codemirror_mode": {
    "name": "ipython",
    "version": 3
   },
   "file_extension": ".py",
   "mimetype": "text/x-python",
   "name": "python",
   "nbconvert_exporter": "python",
   "pygments_lexer": "ipython3",
   "version": "3.9.20"
  }
 },
 "nbformat": 4,
 "nbformat_minor": 5
}
